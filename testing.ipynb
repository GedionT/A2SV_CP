{
 "cells": [
  {
   "cell_type": "markdown",
   "metadata": {},
   "source": [
    "Testing runtime for different functions\n"
   ]
  },
  {
   "cell_type": "code",
   "execution_count": 8,
   "metadata": {},
   "outputs": [
    {
     "name": "stdout",
     "output_type": "stream",
     "text": [
      "3\n",
      "Wall time: 963 µs\n"
     ]
    }
   ],
   "source": [
    "%%time\n",
    "# %%timeit\n",
    "\n",
    "from typing import List\n",
    "\n",
    "def numRescueBoats(people: List[int], limit: int) -> int:\n",
    "    \n",
    "    \n",
    "    left = count = 0\n",
    "    right = len(people)-1\n",
    "    \n",
    "    people.sort()\n",
    "    \n",
    "    while left <= right:\n",
    "        \n",
    "        if people[left] + people[right] <= limit:\n",
    "            left += 1\n",
    "\n",
    "        count += 1\n",
    "        right -= 1\n",
    "        \n",
    "    \n",
    "    return count\n",
    "\n",
    "print(numRescueBoats([1,2,3,4], 3))\n",
    "\n",
    "            "
   ]
  },
  {
   "cell_type": "code",
   "execution_count": 9,
   "metadata": {},
   "outputs": [
    {
     "name": "stdout",
     "output_type": "stream",
     "text": [
      "3\n",
      "Wall time: 0 ns\n"
     ]
    }
   ],
   "source": [
    "%%time\n",
    "def numRescueBoats( people: List[int], limit: int) -> int:\n",
    "    \n",
    "    \n",
    "    left = count = 0\n",
    "    right = len(people)-1\n",
    "    \n",
    "    people.sort()\n",
    "    \n",
    "    while left <= right:\n",
    "        \n",
    "        if people[left] + people[right] <= limit:\n",
    "            count += 1\n",
    "            \n",
    "            left += 1\n",
    "            right -= 1\n",
    "        \n",
    "        else:\n",
    "            count += 1\n",
    "            right -= 1\n",
    "    \n",
    "    return count\n",
    "\n",
    "print(numRescueBoats([1,2,3,4], 3))"
   ]
  },
  {
   "cell_type": "code",
   "execution_count": null,
   "metadata": {},
   "outputs": [],
   "source": []
  }
 ],
 "metadata": {
  "interpreter": {
   "hash": "851ca28add205d1de14452f9e4d03c79f1120572930336d0a5a031c1008d58dc"
  },
  "kernelspec": {
   "display_name": "Python 3.8.8 ('base')",
   "language": "python",
   "name": "python3"
  },
  "language_info": {
   "codemirror_mode": {
    "name": "ipython",
    "version": 3
   },
   "file_extension": ".py",
   "mimetype": "text/x-python",
   "name": "python",
   "nbconvert_exporter": "python",
   "pygments_lexer": "ipython3",
   "version": "3.8.8"
  },
  "orig_nbformat": 4
 },
 "nbformat": 4,
 "nbformat_minor": 2
}
